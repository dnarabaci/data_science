{
 "cells": [
  {
   "cell_type": "markdown",
   "metadata": {},
   "source": [
    "# Duygu Nur Arabaci Homework 1"
   ]
  },
  {
   "cell_type": "code",
   "execution_count": 17,
   "metadata": {},
   "outputs": [],
   "source": [
    "# folder name : mol_files\n",
    "\n",
    "# target file extension : .pdbqt\n",
    "\n",
    "# change name of file to the first line of the file\n",
    "\n",
    "def problem1(directory):\n",
    "    \"\"\"\n",
    "    Properly changes the names of every .pdbqt files in a given folder\n",
    "    Prints the number of files whose names were changed\n",
    "    Prints estimated amount of time necessary to process three million files\n",
    "\n",
    "    Parameters:\n",
    "\n",
    "    directory (str): the folder to search for .pdbqt files\n",
    "    \"\"\"\n",
    "    from time import time\n",
    "    import os\n",
    "    import re\n",
    "    ext = \".pdbqt\"\n",
    "    start=time()\n",
    "    f_nb = 0\n",
    "    file_list = os.listdir(directory)\n",
    "    for file in file_list :\n",
    "        if(file.endswith(ext)):\n",
    "            file_path = \"{:s}/{:s}\".format(directory,file)\n",
    "            f = open(os.path.join(directory,file))\n",
    "            name = f.readline().strip()\n",
    "            f.close()\n",
    "            name = name.split(\"= \")\n",
    "            name = name[1]\n",
    "            rename(r'{:s}'.format(file_path),r'{:s}/{:s}{:s}'.format(directory,name,ext))\n",
    "            f_nb += 1\n",
    "    stop=time()\n",
    "    print(\"the number of processed files: {:d}\".format(f_nb))\n",
    "    if(f_nb==0):\n",
    "        apprx = \"N/A\"\n",
    "    else:\n",
    "        apprx = \"{:f}\".format((stop-start) / f_nb * 3000000 / 3600)\n",
    "    print(\"estimated hours to process three million files: {:s}\".format(apprx))"
   ]
  },
  {
   "cell_type": "code",
   "execution_count": 18,
   "metadata": {},
   "outputs": [
    {
     "name": "stdout",
     "output_type": "stream",
     "text": [
      "the number of processed files: 38\n",
      "estimated hours to process three million files: 0.573287\n"
     ]
    }
   ],
   "source": [
    "problem1(\"mol_files\")"
   ]
  },
  {
   "cell_type": "code",
   "execution_count": 60,
   "metadata": {},
   "outputs": [],
   "source": [
    "def problem2(items_bought):\n",
    "    \n",
    "    \"\"\"\n",
    "    A store charges $12 per item if you buy less than 10 items. If you buy between 10 and 99 items, the\n",
    "    cost is $10 per item. If you buy 100 or more items, the cost is $7 per item. Write a program that takes\n",
    "    how many items are bought as an input and prints the total cost.\n",
    "    \n",
    "    Parameters\n",
    "    \n",
    "    items_bought(int) : number of items bought from the shop \n",
    "    \n",
    "    Prints the calculated cost of items.\n",
    "    \n",
    "    \"\"\"\n",
    "    \n",
    "    cost = 0\n",
    "    assert (items_bought >= 0),\"Please enter a valid amount.\"\n",
    "    if items_bought < 10: \n",
    "        cost = 12*items_bought\n",
    "    elif 9 < items_bought < 100: cost = 10*items_bought\n",
    "    else: cost = 7*items_bought\n",
    "    print(\"total cost is $\" , cost , sep= \"\")"
   ]
  },
  {
   "cell_type": "code",
   "execution_count": 61,
   "metadata": {},
   "outputs": [
    {
     "name": "stdout",
     "output_type": "stream",
     "text": [
      "total cost is $100\n"
     ]
    }
   ],
   "source": [
    "problem2(10)"
   ]
  },
  {
   "cell_type": "code",
   "execution_count": 129,
   "metadata": {},
   "outputs": [],
   "source": [
    "def problem3():\n",
    "    \n",
    "    \"\"\"\n",
    "    Write a program that generates a list of 20 random numbers between 1 and 100. When generating\n",
    "    random number use random seed as 18.\n",
    "    \n",
    "    (a) Print the list.\n",
    "    (b) Print the sorted list (sort list in the descending order)\n",
    "    (c) Print the average of the elements in the list.\n",
    "    (d) Print how many even numbers are in the list.\n",
    "    (e) Print the largest and smallest values in the list.\n",
    "    (f) Print the second largest and second smallest entries in the list\n",
    "    \n",
    "    No parameters.\n",
    "    \n",
    "    \"\"\"\n",
    "    \n",
    "    #importing random module to generate random numbers, and using seed 18 as given in problem\n",
    "    import random\n",
    "    random.seed(18)\n",
    "    #loop 20 times and thus generate 20 random numbers, each time adding it to an empty list\n",
    "    i = 0\n",
    "    rnd_list = []\n",
    "    while i<20:\n",
    "        n = random.randint(1,100)\n",
    "        rnd_list.append(n)\n",
    "        i += 1\n",
    "    #printing list, then sort in descending order\n",
    "    print(\"the numbers in the list:\")\n",
    "    print(rnd_list)\n",
    "    rnd_list.sort(reverse=True)\n",
    "    print(\"the sorted list:\")\n",
    "    print(rnd_list)\n",
    "    #for every element in the list check whether it can be divided by 2 with no remainder, increase counter for each\n",
    "    counter=0\n",
    "    for element in rnd_list:\n",
    "        if element % 2 == 0:\n",
    "            counter += 1\n",
    "    print(\"the number of even numbers in the list:\", counter)\n",
    "    #sum of all the numbers in the list divided by the length of the list as the average\n",
    "    print(\"the average of the list\" , sum(rnd_list)/len(rnd_list))\n",
    "    #convert the list into a set to remove repetitions and back into a list to sort\n",
    "    rnd_set = set(rnd_list)\n",
    "    rnd_list=list(rnd_set)\n",
    "    rnd_list.sort()\n",
    "    print(\"the largest element in the list is:\", rnd_list[-1])\n",
    "    print(\"the smallest element in the list is:\", rnd_list[0])\n",
    "    print(\"the second smallest element in the list is:\", rnd_list[1])\n",
    "    print(\"the second largest element in the list is:\", rnd_list[-2])"
   ]
  },
  {
   "cell_type": "code",
   "execution_count": 130,
   "metadata": {},
   "outputs": [
    {
     "name": "stdout",
     "output_type": "stream",
     "text": [
      "the numbers in the list:\n",
      "[24, 16, 85, 58, 43, 31, 26, 63, 81, 64, 24, 62, 38, 59, 34, 26, 33, 89, 16, 42]\n",
      "the sorted list:\n",
      "[89, 85, 81, 64, 63, 62, 59, 58, 43, 42, 38, 34, 33, 31, 26, 26, 24, 24, 16, 16]\n",
      "the number of even numbers in the list: 12\n",
      "the average of the list 45.7\n",
      "the largest element in the list is: 89\n",
      "the smallest element in the list is: 16\n",
      "the second smallest element in the list is: 24\n",
      "the second largest element in the list is: 85\n"
     ]
    }
   ],
   "source": [
    "problem3()"
   ]
  },
  {
   "cell_type": "code",
   "execution_count": 135,
   "metadata": {},
   "outputs": [],
   "source": [
    "def problem4():\n",
    "    \"\"\"\n",
    "    Randomly generates a 6 x 6 list that has exactly 12 ones placed in random locations with the rest filled with zeroes.\n",
    "    Displays the two dimensional list.\n",
    "    \n",
    "    No parameters.\n",
    "    \n",
    "    \"\"\"\n",
    "    import random\n",
    "    #define an empty list\n",
    "    matrix = []\n",
    "    #loop 6 times to make a smaller list of lenght 6, assigning 0 to each position\n",
    "    #then use append to the empty list to make a 6x6 matrix\n",
    "    for i in range(0, 6):\n",
    "        smaller_matrix = []\n",
    "        for y in range(0, 6):\n",
    "            smaller_matrix.append(0)\n",
    "        matrix.append(smaller_matrix)\n",
    "    #here I used a set instead of a list to avoid generating the same random location\n",
    "    rnd_locations = set()\n",
    "    #loop until the length of the set becomes 12, so that we have 12 distinct locations\n",
    "    while len(rnd_locations) < 12:\n",
    "    #generating random numbers between 0 and 5 to generate two dimensional matrix locations\n",
    "        n = random.randint(0,5)\n",
    "        m = random.randint(0,5)\n",
    "        rnd_locations.add((m,n))\n",
    "    #for each location generated the matrix is called and those locations are set to 1\n",
    "    for location in rnd_locations:\n",
    "        matrix[location[0]][location[1]] = 1\n",
    "    display(matrix)"
   ]
  },
  {
   "cell_type": "code",
   "execution_count": 136,
   "metadata": {},
   "outputs": [
    {
     "data": {
      "text/plain": [
       "[[0, 0, 0, 1, 0, 1],\n",
       " [1, 0, 1, 1, 0, 0],\n",
       " [0, 1, 0, 0, 0, 0],\n",
       " [0, 0, 0, 1, 0, 1],\n",
       " [1, 0, 0, 0, 1, 1],\n",
       " [0, 1, 0, 0, 0, 0]]"
      ]
     },
     "metadata": {},
     "output_type": "display_data"
    }
   ],
   "source": [
    "problem4()"
   ]
  },
  {
   "cell_type": "code",
   "execution_count": 199,
   "metadata": {},
   "outputs": [],
   "source": [
    "def problem5(movies_file_name, users_file_name, ratings_file_name, output_file ):\n",
    "    \"\"\"\n",
    "    Properly merges and formats given files according to the standard format as follows:\n",
    "    \n",
    "    user_id movie_id rating timestamp gender age occupation zip title genres Year\n",
    "    \n",
    "    Parameters:\n",
    "    \n",
    "    movies_file_name(str): the file name (if in the same folder as the function, \n",
    "    if not it should include the folder name as well) in which the given movie data file should be located.\n",
    "    \n",
    "    users_file_name(str): the file name (if in the same folder as the function, \n",
    "    if not it should include the folder name as well) in which the given user data file should be located.\n",
    "    \n",
    "    ratings_file_name(str): the file name (if in the same folder as the function, \n",
    "    if not it should include the folder name as well) in which the given ratings data file should be located.\n",
    "    \n",
    "    output_file(str): the desired file name (if in the same folder as the function, \n",
    "    if not it should include the folder name as well) to contain the merged data\n",
    "    \n",
    "    The formats of the given files should be as:\n",
    "    \n",
    "    For movies : MovieID::Title::Genres\n",
    "    For ratings : UserID::MovieID::Rating::Timestamp\n",
    "    For users : UserID::Gender::Age::Occupation::Zip-code\n",
    "    \n",
    "    \"\"\"\n",
    "    import re\n",
    "    ratings_file = open(ratings_file_name, encoding=\"latin-1\")\n",
    "    outputfile=open(output_file,\"w\", encoding=\"latin-1\")\n",
    "    rf_lines = ratings_file.readline()\n",
    "    #keep going until all lines are merged and formatted\n",
    "    while rf_lines != \"\":\n",
    "    #obtain separate data from the lines of the rating, and get the matching lines from the other files\n",
    "        user_id,movie_id,rating, timestamp = rf_lines.strip().split(\"::\")\n",
    "        user_data = fetch_line(users_file_name, int(user_id))\n",
    "        movie_data = fetch_line(movies_file_name, int(movie_id))\n",
    "        #Then separate the lines obtained for others as well\n",
    "        movie_id,movie_title,movie_genre = movie_data.strip().split(\"::\")  \n",
    "        user_id, gender, age, occupation, zipcode = user_data.strip().split(\"::\")\n",
    "        #get the year from title\n",
    "        pattern=r\"\\((\\d+)\\)\"\n",
    "        year=re.findall(pattern,movie_title)[0]\n",
    "        #delete the year from title\n",
    "        movie_title_no_yr = (re.sub(pattern,\"\",movie_title)).strip()\n",
    "        #print the data in given format into the output file\n",
    "        print(user_id, movie_id, rating, timestamp, gender, age, occupation, zipcode, movie_title_no_yr, movie_genre, year, sep=\"::\", file = outputfile)\n",
    "        rf_lines = ratings_file.readline()\n",
    "    outputfile.close()\n",
    "    #since the operation takes very long, I found it convenient to add a line to let me know that the function is done\n",
    "    print(\"42\")"
   ]
  },
  {
   "cell_type": "code",
   "execution_count": 195,
   "metadata": {},
   "outputs": [],
   "source": [
    "def fetch_line(file_name, given_id):\n",
    "    \n",
    "    \"\"\"\n",
    "    Supporting function for problem5()\n",
    "    \n",
    "    Fetches the matching line data from given file using the given id\n",
    "    \n",
    "    Parameters\n",
    "    \n",
    "    file_name(str): The name of the file to look for the desired line\n",
    "    \n",
    "    given_id(str): The user or movie id number to match the appropriate line in the given file\n",
    "    \n",
    "    returns(str): the line with matching given ID from given file\n",
    "    \n",
    "    \"\"\"\n",
    "    #Open the file and encode it to latin because there was trouble with the same files in class\n",
    "    file=open(file_name,encoding=\"latin-1\")\n",
    "    data = file.readline()\n",
    "    #repeat the operation until there are no more lines\n",
    "    while data!= \"\":\n",
    "    #take the first part before the splitter \"::\" to obtain id to match with other files\n",
    "        the_id = data.split(\"::\",1)[0]\n",
    "    #obtain the matching line\n",
    "        if int(the_id) == given_id:\n",
    "            file.close()\n",
    "            return data\n",
    "    #and return the match once found and close the file, continue reading lines until found\n",
    "        data = file.readline()\n",
    "    file.close()\n",
    "    #print if there was no match\n",
    "    print(\"there was no matching data\")\n",
    "\"\"\"\n",
    "This is the initial version, it allows for location of lines to be used, and goes directly to the lines, and works much faster\n",
    "however apparently there are missing lines in the movies file\n",
    "\n",
    "def fetch_line (file_name, line):\n",
    "    file = open(file_name,encoding = \"latin-1\")\n",
    "    for i in range(1,line):\n",
    "        next(file)\n",
    "    data = file.readline()\n",
    "    file.close()\n",
    "    return data\n",
    "\"\"\""
   ]
  },
  {
   "cell_type": "code",
   "execution_count": 201,
   "metadata": {},
   "outputs": [
    {
     "name": "stdout",
     "output_type": "stream",
     "text": [
      "operation complete.\n"
     ]
    }
   ],
   "source": [
    "problem5(\"data_files1/movies.dat\", \"data_files1/users.dat\", \"data_files1/ratings.dat\", \"data_files1/merged.dat\" )"
   ]
  }
 ],
 "metadata": {
  "kernelspec": {
   "display_name": "Python 3",
   "language": "python",
   "name": "python3"
  },
  "language_info": {
   "codemirror_mode": {
    "name": "ipython",
    "version": 3
   },
   "file_extension": ".py",
   "mimetype": "text/x-python",
   "name": "python",
   "nbconvert_exporter": "python",
   "pygments_lexer": "ipython3",
   "version": "3.7.4"
  }
 },
 "nbformat": 4,
 "nbformat_minor": 2
}
