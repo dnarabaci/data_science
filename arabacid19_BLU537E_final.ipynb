{
 "cells": [
  {
   "cell_type": "markdown",
   "metadata": {},
   "source": [
    "Duygu Nur Arabaci Data Analysis and Visualization Final"
   ]
  },
  {
   "cell_type": "markdown",
   "metadata": {},
   "source": [
    "Problem 1"
   ]
  },
  {
   "cell_type": "code",
   "execution_count": null,
   "metadata": {},
   "outputs": [],
   "source": [
    "dataset_dir = \"final_data/kaggle\"\n",
    "def problem1(dataset_dir):\n",
    "    import os\n",
    "    import re\n",
    "    import pandas as pd\n",
    "    import matplotlib.pyplot as plt\n",
    "    \n",
    "    file_list = os.listdir(dataset_dir)\n",
    "\n",
    "    #rename the files to the names between strings \"olist_\" and \"_dataset\"\n",
    "    start = \"olist_\"\n",
    "    end = \"_dataset\"\n",
    "    #for all the files that start with olist find the string between start and end strings, and rename\n",
    "    for file in file_list:\n",
    "        if file.startswith(start):\n",
    "            name = re.search(\"%s(.*)%s\" % (start, end), file).group(1)\n",
    "            os.rename(os.path.join(dataset_dir,file),dataset_dir+\"/\"+name+\".csv\")\n",
    "    \n",
    "    #merge the files in order\n",
    "    data=pd.merge(pd.merge(pd.merge(pd.merge(pd.merge(pd.read_csv(dataset_dir + \"/\" + 'order_items.csv')\n",
    "                                                      ,pd.read_csv(dataset_dir + \"/\" +'products.csv'))\n",
    "                                             ,pd.read_csv(dataset_dir + \"/\" +'product_category_name_translation.csv'))\n",
    "                                    ,pd.read_csv(dataset_dir + \"/\" +'orders.csv'))\n",
    "                           ,pd.read_csv(dataset_dir + \"/\" +'sellers.csv'))\n",
    "                  ,pd.read_csv(dataset_dir + \"/\" +'customers.csv'))\n",
    "    #get the top 10 of both\n",
    "    customer = data.customer_city.value_counts()[:10]\n",
    "    seller = data.seller_city.value_counts()[:10]\n",
    "    #plot according to given parameters\n",
    "    df = pd.DataFrame({'customer city': customer,'seller city': seller}, index = customer.to_frame().index.union(seller.to_frame().index, sort = False))\n",
    "    ax = df.plot.bar(rot=90, figsize = (10,6))\n",
    "    plt.ylabel(\"Number of Orders\")\n",
    "    plt.show()"
   ]
  },
  {
   "cell_type": "code",
   "execution_count": null,
   "metadata": {},
   "outputs": [],
   "source": [
    "problem1(\"final_data/kaggle\")"
   ]
  },
  {
   "cell_type": "markdown",
   "metadata": {},
   "source": [
    "Problem 2"
   ]
  },
  {
   "cell_type": "code",
   "execution_count": null,
   "metadata": {},
   "outputs": [],
   "source": [
    "dataset_dir = \"final_data/kaggle\"    \n",
    "def problem2(dataset_dir):\n",
    "    import os\n",
    "    import re\n",
    "    import pandas as pd\n",
    "    import matplotlib.pyplot as plt\n",
    "\n",
    "    file_list = os.listdir(dataset_dir)\n",
    "\n",
    "    #rename the files to the names between strings \"olist_\" and \"_dataset\"\n",
    "    start = \"olist_\"\n",
    "    end = \"_dataset\"\n",
    "    #for all the files that start with olist find the string between start and end strings, and rename\n",
    "    for file in file_list:\n",
    "        if file.startswith(start):\n",
    "            name = re.search(\"%s(.*)%s\" % (start, end), file).group(1)\n",
    "            os.rename(os.path.join(dataset_dir,file),dataset_dir+\"/\"+name+\".csv\")\n",
    "\n",
    "    #merge the files in order\n",
    "    data=pd.merge(pd.merge(pd.merge(pd.merge(pd.merge(pd.read_csv(dataset_dir + \"/\" + 'order_items.csv')\n",
    "                                                      ,pd.read_csv(dataset_dir + \"/\" +'products.csv'))\n",
    "                                             ,pd.read_csv(dataset_dir + \"/\" +'product_category_name_translation.csv'))\n",
    "                                    ,pd.read_csv(dataset_dir + \"/\" +'orders.csv'))\n",
    "                           ,pd.read_csv(dataset_dir + \"/\" +'sellers.csv'))\n",
    "                  ,pd.read_csv(dataset_dir + \"/\" +'customers.csv'))\n",
    "    relations = pd.DataFrame(data, columns=['customer_city', 'seller_city'])\n",
    "    relations[\"orders\"]= relations.customer_city + \", \" +  relations.seller_city  \n",
    "    relations[\"orders\"]=relations[\"orders\"].map(lambda x: \"(\" + x + \")\" if x.split(\", \")[1] > x.split(\", \")[0] else \"(\" + x.split(\", \")[1] + ', ' + x.split(\", \")[0] + \")\")\n",
    "\n",
    "    new = relations[relations.seller_city != relations.customer_city].orders.value_counts().to_frame()\n",
    "    display(new[:10])"
   ]
  },
  {
   "cell_type": "code",
   "execution_count": null,
   "metadata": {},
   "outputs": [],
   "source": [
    "problem2(dataset_dir)"
   ]
  },
  {
   "cell_type": "markdown",
   "metadata": {},
   "source": [
    "Problem 3"
   ]
  },
  {
   "cell_type": "code",
   "execution_count": null,
   "metadata": {},
   "outputs": [],
   "source": [
    "def problem3(directory):\n",
    "    import pandas as pd\n",
    "    import matplotlib.pyplot as plt\n",
    "    raw_data = pd.read_csv(directory,encoding=\"latin-1\",parse_dates =[\"ReportPeriod\"], index_col =\"ReportPeriod\").drop(\n",
    "        columns = [\"DataExtractDate\", \"Arrival_Departure\", \"CargoType\"]).drop_duplicates()\n",
    "    raw_data[\"year\"] = raw_data.index.year\n",
    "    raw_data\n",
    "    data=raw_data.pivot_table(\"AirCargoTons\",index=\"year\",columns=\"Domestic_International\",aggfunc=\"sum\")\n",
    "    data.plot(kind=\"bar\", figsize = (10,6))\n",
    "    plt.ylabel(\"Tons\")\n",
    "    plt.xlabel(\"ReportPeriod\")\n",
    "    plt.legend(title = False)\n",
    "    plt.show()"
   ]
  },
  {
   "cell_type": "code",
   "execution_count": null,
   "metadata": {},
   "outputs": [],
   "source": [
    "directory = \"final_data/los-angeles-international-airport-air-cargo-volume.csv\"\n",
    "problem3(directory)"
   ]
  },
  {
   "cell_type": "markdown",
   "metadata": {},
   "source": [
    "Problem 4"
   ]
  },
  {
   "cell_type": "code",
   "execution_count": null,
   "metadata": {},
   "outputs": [],
   "source": [
    "directory = \"final_data/global-city-population-estimates.xls\"\n",
    "year = \"2015\""
   ]
  },
  {
   "cell_type": "code",
   "execution_count": null,
   "metadata": {},
   "outputs": [],
   "source": [
    "def problem4(directory, year):\n",
    "    \n",
    "    import pandas as pd\n",
    "    import matplotlib.pyplot as plt\n",
    "    \n",
    "    #read excel file with the sheet selected\n",
    "    data = pd.read_excel(directory, sheet_name = \"CITIES-OVER-300K\")\n",
    "    #get the top 10 data, but in reverse to get the plot in reverse\n",
    "    top10 = data.sort_values(by = year).tail(n=10)\n",
    "    #top10yr= top10[year][-10:]\n",
    "    \n",
    "    #reverse the top10 for the bar plot\n",
    "    bot10 = top10.iloc[::-1]\n",
    "    \n",
    "\n",
    "    \n",
    "    def bar_plot():\n",
    "        \n",
    "        plot = top10.plot.barh(x= \"Urban Agglomeration\", y= year, figsize = (10,6), width = 0.8)\n",
    "    \n",
    "        #labels\n",
    "        plt.xlabel(\"population (thousands)\", fontsize = 15)\n",
    "        plt.ylabel(\"\")\n",
    "        \n",
    "        #format of plot\n",
    "        plt.legend().remove()\n",
    "        plt.yticks([])\n",
    "\n",
    "        plt.text(30000, 0.2, s = year, fontsize=25, color = 'red', fontweight ='bold')\n",
    "\n",
    "        #add text over each bar\n",
    "\n",
    "        z=9\n",
    "        for i,v in enumerate(top10[year]):\n",
    "            plot.text(v, i, str(bot10[\"Urban Agglomeration\"][z]), color='black', fontweight='bold',ha='right', va='bottom', fontsize = 12)\n",
    "            plot.text(v, i, str(bot10[\"Country or area\"][z]), color='black', fontweight='bold',ha='right', va='top', fontsize = 8)\n",
    "            z=z-1\n",
    "        \n",
    "    \n",
    "    def pie_plot(data, top10):\n",
    "        import pandas as pd\n",
    "        import matplotlib.pyplot as plt\n",
    "\n",
    "        #read excel file with the sheet selected\n",
    "        data = pd.read_excel(directory, sheet_name = \"CITIES-OVER-300K\")\n",
    "        #get the top 10 data, but in reverse to get the plot in reverse\n",
    "        top10 = data.sort_values(by = year).tail(n=10)\n",
    "        #the pie plot\n",
    "        top_all = top10[year].sum()\n",
    "        top10[\"percentage\"] = top10[year].map(lambda x: 100*x/top_all)\n",
    "        pie = plt.pie(top10[\"percentage\"], labels=top10[\"Urban Agglomeration\"],  autopct='%1.1f%%',startangle=90)\n",
    "\n",
    "        #plt.rcParams[\"figure.figsize\"] = (6,6)\n",
    "        plt.setp(pie[1], fontsize=15)\n",
    "        plt.setp(pie[2], fontsize=15)\n",
    "        plt.show()\n",
    "    \n",
    "    pie_plot(data, top10)\n",
    "    bar_plot()"
   ]
  },
  {
   "cell_type": "code",
   "execution_count": null,
   "metadata": {},
   "outputs": [],
   "source": [
    "problem4(directory, year)"
   ]
  },
  {
   "cell_type": "markdown",
   "metadata": {},
   "source": [
    "Problem 5"
   ]
  },
  {
   "cell_type": "code",
   "execution_count": null,
   "metadata": {},
   "outputs": [],
   "source": [
    "def problem5(directory):\n",
    "    import pandas as pd\n",
    "    import numpy as np\n",
    "    data = pd.read_csv(directory,encoding=\"latin-1\",parse_dates =[\"Created Date\"])\n",
    "    data_Date_Index = data.set_index(\"Created Date\").groupby(pd.Grouper(freq='D')).count()\n",
    "    data_Date_Index_Sorted = data_Date_Index.sort_values(by=['Unnamed: 0'], ascending = False)\n",
    "\n",
    "    date = np.datetime_as_string(data_Date_Index_Sorted.index.values)[0][:10]\n",
    "    display(date)"
   ]
  },
  {
   "cell_type": "code",
   "execution_count": null,
   "metadata": {},
   "outputs": [],
   "source": [
    "directory = \"final_data/311-service-requests.csv\"\n",
    "problem5(directory)"
   ]
  },
  {
   "cell_type": "code",
   "execution_count": null,
   "metadata": {},
   "outputs": [],
   "source": [
    "import pandas as pd\n",
    "import matplotlib.pyplot as plt\n",
    "\n",
    "d= {'English': [113], 'German': [90]}\n",
    "top10 = pd.DataFrame(data=d)\n",
    "plot = top10.plot.barh(x= \"Urban Agglomeration\", y= year, figsize = (10,6), width = 0.8)\n",
    "\n",
    "#labels\n",
    "plt.xlabel(\"population (thousands)\", fontsize = 15)\n",
    "plt.ylabel(\"\")\n",
    "\n",
    "#format of plot\n",
    "plt.legend().remove()\n",
    "plt.yticks([])\n",
    "\n",
    "plt.text(30000, 0.2, s = year, fontsize=25, color = 'red', fontweight ='bold')\n",
    "\n",
    "#add text over each bar\n",
    "\n",
    "z=9\n",
    "for i,v in enumerate(top10[year]):\n",
    "    plot.text(v, i, str(bot10[\"Urban Agglomeration\"][z]), color='black', fontweight='bold',ha='right', va='bottom', fontsize = 12)\n",
    "    plot.text(v, i, str(bot10[\"Country or area\"][z]), color='black', fontweight='bold',ha='right', va='top', fontsize = 8)\n",
    "    z=z-1"
   ]
  },
  {
   "cell_type": "code",
   "execution_count": 37,
   "metadata": {},
   "outputs": [
    {
     "data": {
      "text/plain": [
       "<BarContainer object of 1 artists>"
      ]
     },
     "execution_count": 37,
     "metadata": {},
     "output_type": "execute_result"
    },
    {
     "data": {
      "image/png": "[encoded data removed]",
      "text/plain": [
       "<Figure size 720x432 with 1 Axes>"
      ]
     },
     "metadata": {
      "needs_background": "light"
     },
     "output_type": "display_data"
    }
   ],
   "source": [
    "import pandas as pd\n",
    "import matplotlib.pyplot as plt\n",
    "import matplotlib.colors as mcolors\n",
    "#import matplotlib.pyplot as plt; plt.rcdefaults()\n",
    "d= {'English': [113], 'German': [98]}\n",
    "#, \"\": [120]\n",
    "plot.barh(0,  120,   edgecolor='grey', color='grey',  linewidth=2, linestyle='-.')\n",
    "\n",
    "top10 = pd.DataFrame(data=d)\n",
    "#top10.plot.barh()\n",
    "\n",
    "#plt.yticks([])\n",
    "\n",
    "plot = top10.plot.barh( figsize = (10,6), width = 0.8,color=(\"cornflowerblue\", \"violet\"))\n",
    "\n",
    "plot.text(top10[\"German\"], 0.17, \"German\", color='black', fontweight='bold',ha='right', va='bottom', fontsize = 26)\n",
    "plot.text(top10[\"German\"], 0.05, \"(B2/C1 DSD II)\", color='black', fontweight='bold',ha='right', va='bottom', fontsize = 24)\n",
    "plot.text(top10[\"English\"], -0.35, \"(TOEFL iBT 113/120)\", color='black', fontweight='bold',ha='right', va='bottom', fontsize = 24)\n",
    "\n",
    "plot.text(top10[\"English\"], -0.13, \"English\", color='black', fontweight='bold',ha='right', va='top', fontsize = 26)\n",
    "plot.legend().remove()\n",
    "\n",
    "#plt.bar(0.17, 0.10, color=\"None\")\n",
    "#plt.bar(120,  -1, width=0.4, edgecolor='black', color='None',  linewidth=0.75, linestyle='-.')\n",
    "\n",
    "plot.barh(0,  120,   edgecolor='grey', color='None',  linewidth=2, linestyle='-.')\n",
    "\n",
    "#ax = plt.subplot(111)\n",
    "plot.barh(120, 5,color='r',align='center')\n",
    "#plt.show()"
   ]
  },
  {
   "cell_type": "code",
   "execution_count": null,
   "metadata": {},
   "outputs": [],
   "source": []
  },
  {
   "cell_type": "code",
   "execution_count": null,
   "metadata": {},
   "outputs": [],
   "source": []
  }
 ],
 "metadata": {
  "kernelspec": {
   "display_name": "Python 3",
   "language": "python",
   "name": "python3"
  },
  "language_info": {
   "codemirror_mode": {
    "name": "ipython",
    "version": 3
   },
   "file_extension": ".py",
   "mimetype": "text/x-python",
   "name": "python",
   "nbconvert_exporter": "python",
   "pygments_lexer": "ipython3",
   "version": "3.7.4"
  }
 },
 "nbformat": 4,
 "nbformat_minor": 2
}
