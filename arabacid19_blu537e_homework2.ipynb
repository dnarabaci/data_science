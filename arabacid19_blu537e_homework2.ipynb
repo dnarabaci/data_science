{
 "cells": [
  {
   "cell_type": "markdown",
   "metadata": {},
   "source": [
    "# Duygu Nur Arabaci Homework 2"
   ]
  },
  {
   "cell_type": "code",
   "execution_count": 5,
   "metadata": {},
   "outputs": [],
   "source": [
    "def problem1(directory):\n",
    "\n",
    "    \"\"\"\n",
    "    Prints the lowest and highest blood pressure measurements amongs the patients. \n",
    "    (File format \n",
    "        first column: patient id \n",
    "        second column: blood pressure measurement as \"mean[min-max]\")\n",
    "    (For the given file, outputs are 108 and 180)\n",
    "    Prints the average of the mean values.\n",
    "\n",
    "    Parameters: \n",
    "\n",
    "    directory(str): the folder to search for the file\n",
    "\n",
    "    \"\"\"\n",
    "    import re\n",
    "    #define the pattern as the given format [min-max]\n",
    "    pattern_minmax = r\"(...-...)\"\n",
    "    pattern_mean = r\"\\,(\\d{3})\"\n",
    "    #first reading the file and putting the lines into a list\n",
    "    patients = open(directory).readlines()\n",
    "  \n",
    "    #define lists for the minimum and maximum values\n",
    "    min_list = []\n",
    "    max_list = []\n",
    "    mean_list = []\n",
    "    \n",
    "    #loop to get all the patients, counter starts from 1 to exclude the heading\n",
    "    counter = 1\n",
    "    while counter < (len(patients)-1):\n",
    "        \n",
    "        #find the pattern for the given format [min-max] and separately assign them into appropriate lists\n",
    "        #split takes a string and not a list, so we take the (only) element in the list with index 0\n",
    "        min_value, max_value = re.findall(pattern_minmax,patients[counter])[0].split(\"-\")\n",
    "        min_list.append(min_value)\n",
    "        max_list.append(max_value)\n",
    "        \n",
    "        #find the pattern for mean\n",
    "        mean_value = int(re.findall(pattern_mean,patients[counter])[0])\n",
    "        mean_list.append(mean_value)\n",
    "        counter+=1\n",
    "        \n",
    "    #search and print the lowest value in the min list, and the highest in the max list\n",
    "    print(\"the lowest and the highest blood pressures are:\", min(min_list), max(max_list), \"respectively\") \n",
    "    avg = sum(mean_list)/len(mean_list)\n",
    "    print(\"average of the mean values is:\", avg)"
   ]
  },
  {
   "cell_type": "code",
   "execution_count": 6,
   "metadata": {},
   "outputs": [
    {
     "name": "stdout",
     "output_type": "stream",
     "text": [
      "the lowest and the highest blood pressures are: 108 180 respectively\n",
      "average of the mean values is: 136.0\n"
     ]
    }
   ],
   "source": [
    "problem1(\"datafiles/blood_pressure.csv\")"
   ]
  },
  {
   "cell_type": "code",
   "execution_count": 7,
   "metadata": {},
   "outputs": [],
   "source": [
    "def problem2(directory):\n",
    "\n",
    "    \"\"\"\n",
    "    Calculates the yearly percentage increase compared to previous year and the find the year that\n",
    "    has highest increase in terms of percentage.\n",
    "    Finds the years that GDP per capita decreased compared to the previous year.\n",
    "    \n",
    "    Parameters: \n",
    "\n",
    "    directory(str): the folder to search for the file\n",
    "    \"\"\"\n",
    "    countries = open(directory).readlines()\n",
    "    #split each line and checked the country name to find turkey, then assigned the split list \n",
    "    for country in countries:\n",
    "        splits = country.strip().split(\";\")\n",
    "        if splits[0]==\"Turkey\":\n",
    "            turkey_data = splits\n",
    "    #subtract each year's value from the one before to calculate the yearly increase\n",
    "    counter = 1\n",
    "    yearly_percentage_increase_list = []\n",
    "    #indices are 2 less than the length because 1. indices start at 0 and 2. due to the structure of the loop--\n",
    "    #--when it reaches the last index it will require the next one to substitute it from\n",
    "    indices = len(turkey_data)-1\n",
    "    #the data is converted to floating point number\n",
    "    n1 = float(turkey_data[counter])\n",
    "    #the while loop will get the current counter-index data, and the next one. \n",
    "    while counter<indices:\n",
    "        n2 = float(turkey_data[counter+1])\n",
    "        #calculate the percent increase and add it to the list \n",
    "        yearly_percentage_increase_list.append(100*((n2-n1)/n1))\n",
    "        #store the already pulled data for the next loop\n",
    "        n1 = n2\n",
    "        counter += 1\n",
    "    #pull the year list from the first list, and start from the second one because the years start after the first value\n",
    "    year_list = countries[0].strip().split(\";\")[1:]\n",
    "    #the percentages start from 1961 because the difference calculation could only be achieved from there on\n",
    "    print(\"the highest increase happened in \", year_list[yearly_percentage_increase_list.index(max(yearly_percentage_increase_list))+1])\n",
    "    \n",
    "    counter = 0\n",
    "    indices = len(yearly_percentage_increase_list)\n",
    "    decrease_years = []\n",
    "    #find the negative results in the yearly increase list, use its index to locate the year from the year list\n",
    "    while counter<indices:\n",
    "        if yearly_percentage_increase_list[counter]<0:\n",
    "            #add the years from the years list using the counter as index of the negative values and modifying it by 1 to--\n",
    "            #-- account for the calculation\n",
    "            decrease_years.append(int(year_list[counter+1]))\n",
    "        counter+=1\n",
    "    print(\"years that gdp per capita decreased compared to previous year: \")\n",
    "    print(decrease_years)"
   ]
  },
  {
   "cell_type": "code",
   "execution_count": 8,
   "metadata": {},
   "outputs": [
    {
     "name": "stdout",
     "output_type": "stream",
     "text": [
      "the highest increase happened in  1998\n",
      "years that gdp per capita decreased compared to previous year: \n",
      "[1961, 1970, 1971, 1980, 1982, 1983, 1984, 1991, 1994, 1999, 2001, 2009, 2014, 2015, 2016, 2017]\n"
     ]
    }
   ],
   "source": [
    "problem2(\"datafiles/gdp_per_capita.csv\")"
   ]
  },
  {
   "cell_type": "code",
   "execution_count": 9,
   "metadata": {},
   "outputs": [],
   "source": [
    "\"\"\"\n",
    "For movies : MovieID::Title::Genres\n",
    "\"\"\"\n",
    "class movie_analyzer:\n",
    "    def __init__(self, file_name):\n",
    "        file = open(file_name,encoding=\"latin-1\")\n",
    "        #lines list holds the lines from the file, the loop splits the elements and places them into lines2, then self.lines\n",
    "        lines = file.readlines()\n",
    "        lines2 = []\n",
    "        for line in lines:\n",
    "            line = line.strip().split(\"::\")\n",
    "            lines2.append(line)\n",
    "        self.lines = lines2\n",
    "        file.close() \n",
    "        #generate an empty dictionary, then insert them into the dictionary\n",
    "        self.genre_dict = {}\n",
    "        for line in self.lines:\n",
    "            self.genre_dict[line[1]] = line[2]\n",
    "    \n",
    "    def freq_by_year(self, n):\n",
    "        \"\"\"\n",
    "        returns the top n years with highest frequency in dictionary format\n",
    "\n",
    "        Parameters\n",
    "\n",
    "        n(int): the number of elements to print\n",
    "\n",
    "        \"\"\"\n",
    "        #make a sorted year list with only years\n",
    "        year_list = []\n",
    "        for line in self.lines:\n",
    "            year_list.append(line[-1])\n",
    "        year_list.sort()\n",
    "        #count how many there are of each year in year list\n",
    "        #because the years are sorted, the loop jumps to the next year (after all the same years)\n",
    "        counter = len(year_list)\n",
    "        freq = []\n",
    "        while counter>0:\n",
    "            no = year_list.count(year_list[-counter])\n",
    "            freq.append([no, year_list[-counter]])\n",
    "            counter -= no\n",
    "        freq.sort()\n",
    "        #The loop assigns the top n years with highest frequency to a dictionary\n",
    "        counter = 1\n",
    "        freq_year = {}\n",
    "        while counter<=n:\n",
    "            freq_year[freq[-counter][1]] = freq[-counter][0]\n",
    "            counter +=1\n",
    "        return freq_year\n",
    "    \n",
    "    def top_genre_list(self, n):\n",
    "        \"\"\"\n",
    "        returns top n (given as input argument) most frequent genres\n",
    "        \n",
    "        Parameters\n",
    "    \n",
    "        n(int): the number of elements to print\n",
    "        \"\"\"\n",
    "        genre_list = []\n",
    "        for line in self.lines:\n",
    "            genre_list.extend(line[-2].split(\"|\"))\n",
    "        genre_list.sort()\n",
    "        #count how many there are of each genre in genre list\n",
    "        #because the genres are sorted, the loop jumps to the next genre (after all the same genres)\n",
    "        counter = len(genre_list)\n",
    "        freq = []\n",
    "        while counter>0:\n",
    "            no = genre_list.count(genre_list[-counter])\n",
    "            freq.append([no, genre_list[-counter]])\n",
    "            counter -= no\n",
    "        freq.sort()\n",
    "        #The loop assigns the top n genres with highest frequency to a dictionary\n",
    "        counter = 1\n",
    "        freq_genre = {}\n",
    "        while counter<=n:\n",
    "            freq_genre[freq[-counter][1]] = freq[-counter][0]\n",
    "            counter +=1\n",
    "        return freq_genre\n",
    "#Note: I utilized a code that could be put into a helper function, but because of the definition of the question it is repeated\n",
    "    def print_genre(self, movie_title):\n",
    "        \"\"\"\n",
    "        returns genres of a given movie title\n",
    "        \n",
    "        Parameters\n",
    "    \n",
    "        movie_title(str): the title of the movie to find the genre\n",
    "        \"\"\"\n",
    "        genre = self.genre_dict.get(movie_title)\n",
    "        return genre"
   ]
  },
  {
   "cell_type": "code",
   "execution_count": 10,
   "metadata": {},
   "outputs": [],
   "source": [
    "s=\"datafiles/movies-modified.dat\""
   ]
  },
  {
   "cell_type": "code",
   "execution_count": 11,
   "metadata": {
    "scrolled": true
   },
   "outputs": [],
   "source": [
    "movie=movie_analyzer(s)"
   ]
  },
  {
   "cell_type": "code",
   "execution_count": 12,
   "metadata": {},
   "outputs": [
    {
     "data": {
      "text/plain": [
       "{'1996': 345, '1995': 342, '1998': 337, '1997': 315, '1999': 283}"
      ]
     },
     "execution_count": 12,
     "metadata": {},
     "output_type": "execute_result"
    }
   ],
   "source": [
    "movie.freq_by_year(5)"
   ]
  },
  {
   "cell_type": "code",
   "execution_count": 13,
   "metadata": {},
   "outputs": [
    {
     "data": {
      "text/plain": [
       "{'Drama': 1603, 'Comedy': 1200, 'Action': 503, 'Thriller': 492, 'Romance': 471}"
      ]
     },
     "execution_count": 13,
     "metadata": {},
     "output_type": "execute_result"
    }
   ],
   "source": [
    "movie.top_genre_list(5)"
   ]
  },
  {
   "cell_type": "code",
   "execution_count": 604,
   "metadata": {},
   "outputs": [
    {
     "data": {
      "text/plain": [
       "\"Animation|Children's|Comedy\""
      ]
     },
     "execution_count": 604,
     "metadata": {},
     "output_type": "execute_result"
    }
   ],
   "source": [
    "movie.print_genre(\"Toy Story\")"
   ]
  },
  {
   "cell_type": "code",
   "execution_count": 14,
   "metadata": {},
   "outputs": [],
   "source": [
    "import pandas as pd\n",
    "def problem4(directory):\n",
    "    \"\"\"\n",
    "    Prints the teams that have lowest and highest number of yellow cards.\n",
    "    Prints the team that has the best shooting accuracy.\n",
    "    \n",
    "    Parameters: \n",
    "\n",
    "    directory(str): the folder to search for the file\n",
    "    \"\"\"\n",
    "    import pandas as pd\n",
    "    data=pd.read_csv(directory,encoding=\"latin-1\")\n",
    "    \n",
    "    #find the team data of the maximum and minimum yellow cards values\n",
    "    max_yc = data[data['Yellow Cards']==data['Yellow Cards'].max()].Team\n",
    "    min_yc = data[data['Yellow Cards']==data['Yellow Cards'].min()].Team\n",
    "\n",
    "    i=0\n",
    "    #converted the series data to list to print it as given in example, and printed the whole list for both min and max values\n",
    "    l = len(min_yc.tolist())\n",
    "    min_list = min_yc.tolist()\n",
    "    print(\"countries that have the minimum number of yellow cards:\")\n",
    "    while i<l:\n",
    "        print(min_list[i])\n",
    "        i+=1\n",
    "    i=0\n",
    "    l = len(max_yc.tolist())\n",
    "    max_list = max_yc.tolist()\n",
    "    print(\"countries that have the maximum number of yellow cards:\")\n",
    "    while i<l:\n",
    "        print(max_list[i])\n",
    "        i+=1\n",
    "    #find the team belonging to the maximum shooting accuracy data, and print it\n",
    "    s_a_team = data[data['Shooting Accuracy']==data['Shooting Accuracy'].max()].Team.tolist()\n",
    "    print(\"team with the highest scoring accuracy is\", s_a_team[0] )"
   ]
  },
  {
   "cell_type": "code",
   "execution_count": 15,
   "metadata": {},
   "outputs": [
    {
     "name": "stdout",
     "output_type": "stream",
     "text": [
      "countries that have the minimum number of yellow cards:\n",
      "Denmark\n",
      "Germany\n",
      "countries that have the maximum number of yellow cards:\n",
      "Italy\n",
      "team with the highest scoring accuracy is Spain\n"
     ]
    }
   ],
   "source": [
    "problem4(\"datafiles/Euro 2012 stats TEAM.csv\")"
   ]
  },
  {
   "cell_type": "code",
   "execution_count": 16,
   "metadata": {},
   "outputs": [],
   "source": [
    "def problem5(directory):\n",
    "    import pandas as pd\n",
    "    \"\"\"\n",
    "    Prints the number of unique items\n",
    "    Prints how many times each item was sold\n",
    "    How many transactions contain Coffee.\n",
    "    \"\"\"\n",
    "    #number of unique items\n",
    "    bakery_sales=pd.read_csv(\"datafiles/BreadBasket_DMS.csv\")\n",
    "    no = len(bakery_sales.Item.unique())\n",
    "    print(\"the number of unique items: \", no)\n",
    "    \n",
    "    #how many times items were sold\n",
    "    sold = bakery_sales.Item.value_counts()\n",
    "    print(sold)\n",
    "    \n",
    "    #number of transactions that contain coffee\n",
    "    coffees=bakery_sales[bakery_sales.Item == \"Coffee\"]\n",
    "    coffees_unique = len(coffees.Transaction.unique())\n",
    "    print(\"number of items that have coffee: \", coffees_unique)"
   ]
  },
  {
   "cell_type": "code",
   "execution_count": 608,
   "metadata": {},
   "outputs": [
    {
     "name": "stdout",
     "output_type": "stream",
     "text": [
      "the number of unique items:  95\n",
      "Coffee          5471\n",
      "Bread           3325\n",
      "Tea             1435\n",
      "Cake            1025\n",
      "Pastry           856\n",
      "                ... \n",
      "Raw bars           1\n",
      "Gift voucher       1\n",
      "The BART           1\n",
      "Chicken sand       1\n",
      "Adjustment         1\n",
      "Name: Item, Length: 95, dtype: int64\n",
      "number of items that have coffee:  4528\n"
     ]
    }
   ],
   "source": [
    "problem5(\"datafiles/BreadBasket_DMS.csv\")"
   ]
  },
  {
   "cell_type": "code",
   "execution_count": null,
   "metadata": {},
   "outputs": [],
   "source": []
  }
 ],
 "metadata": {
  "kernelspec": {
   "display_name": "Python 3",
   "language": "python",
   "name": "python3"
  },
  "language_info": {
   "codemirror_mode": {
    "name": "ipython",
    "version": 3
   },
   "file_extension": ".py",
   "mimetype": "text/x-python",
   "name": "python",
   "nbconvert_exporter": "python",
   "pygments_lexer": "ipython3",
   "version": "3.7.4"
  }
 },
 "nbformat": 4,
 "nbformat_minor": 2
}
